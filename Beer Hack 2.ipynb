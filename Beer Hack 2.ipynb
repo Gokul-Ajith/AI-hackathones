{
 "cells": [
  {
   "cell_type": "code",
   "execution_count": 1,
   "metadata": {},
   "outputs": [],
   "source": [
    "import numpy as np\n",
    "import pandas as pd\n",
    "train_df = pd.read_csv('Beer Train Data Set.csv')\n",
    "test_df = pd.read_csv('Beer Test Data Set.csv')"
   ]
  },
  {
   "cell_type": "code",
   "execution_count": 2,
   "metadata": {},
   "outputs": [
    {
     "name": "stdout",
     "output_type": "stream",
     "text": [
      "<class 'pandas.core.frame.DataFrame'>\n",
      "RangeIndex: 185643 entries, 0 to 185642\n",
      "Data columns (total 10 columns):\n",
      "ABV                    170513 non-null float64\n",
      "Brewing Company        185643 non-null int64\n",
      "Food Paring            185643 non-null object\n",
      "Glassware Used         185643 non-null object\n",
      "Beer Name              185643 non-null int64\n",
      "Ratings                185643 non-null object\n",
      "Style Name             185643 non-null object\n",
      "Cellar Temperature     178862 non-null object\n",
      "Serving Temperature    185450 non-null object\n",
      "Score                  185643 non-null float64\n",
      "dtypes: float64(2), int64(2), object(6)\n",
      "memory usage: 14.2+ MB\n"
     ]
    }
   ],
   "source": [
    "train_df.info()"
   ]
  },
  {
   "cell_type": "code",
   "execution_count": 3,
   "metadata": {},
   "outputs": [
    {
     "data": {
      "text/plain": [
       "ABV                    15130\n",
       "Brewing Company            0\n",
       "Food Paring                0\n",
       "Glassware Used             0\n",
       "Beer Name                  0\n",
       "Ratings                    0\n",
       "Style Name                 0\n",
       "Cellar Temperature      6781\n",
       "Serving Temperature      193\n",
       "Score                      0\n",
       "dtype: int64"
      ]
     },
     "execution_count": 3,
     "metadata": {},
     "output_type": "execute_result"
    }
   ],
   "source": [
    "train_df.isnull().sum()"
   ]
  },
  {
   "cell_type": "code",
   "execution_count": 4,
   "metadata": {},
   "outputs": [
    {
     "data": {
      "text/plain": [
       "Series([], dtype: int64)"
      ]
     },
     "execution_count": 4,
     "metadata": {},
     "output_type": "execute_result"
    }
   ],
   "source": [
    "train_df.isnull().sum()[((train_df.isnull().sum()) >= (70*train_df.shape[0])/100)]"
   ]
  },
  {
   "cell_type": "code",
   "execution_count": 5,
   "metadata": {},
   "outputs": [],
   "source": [
    "train_df_og = train_df.copy()"
   ]
  },
  {
   "cell_type": "code",
   "execution_count": 6,
   "metadata": {},
   "outputs": [],
   "source": [
    "test_df_og = test_df.copy()"
   ]
  },
  {
   "cell_type": "code",
   "execution_count": 7,
   "metadata": {},
   "outputs": [],
   "source": [
    "train_df.dropna(inplace=True)"
   ]
  },
  {
   "cell_type": "code",
   "execution_count": 8,
   "metadata": {},
   "outputs": [
    {
     "data": {
      "text/plain": [
       "ABV                     1664\n",
       "Brewing Company            0\n",
       "Food Paring                0\n",
       "Glassware Used             0\n",
       "Beer Name                  0\n",
       "Ratings                    0\n",
       "Style Name                 0\n",
       "Cellar Temperature       755\n",
       "Serving Temperature       21\n",
       "Score                  20628\n",
       "dtype: int64"
      ]
     },
     "execution_count": 8,
     "metadata": {},
     "output_type": "execute_result"
    }
   ],
   "source": [
    "test_df.isnull().sum()"
   ]
  },
  {
   "cell_type": "code",
   "execution_count": 9,
   "metadata": {},
   "outputs": [],
   "source": [
    "test_df['ABV'].fillna(test_df['ABV'].mode()[0],inplace=True)\n",
    "test_df['Serving Temperature'].fillna(test_df['Serving Temperature'].mode()[0],inplace=True)\n",
    "test_df['Cellar Temperature'].fillna(test_df['Cellar Temperature'].mode()[0],inplace=True)"
   ]
  },
  {
   "cell_type": "code",
   "execution_count": 10,
   "metadata": {},
   "outputs": [
    {
     "name": "stdout",
     "output_type": "stream",
     "text": [
      "<class 'pandas.core.frame.DataFrame'>\n",
      "Int64Index: 164236 entries, 0 to 185642\n",
      "Data columns (total 10 columns):\n",
      "ABV                    164236 non-null float64\n",
      "Brewing Company        164236 non-null int64\n",
      "Food Paring            164236 non-null object\n",
      "Glassware Used         164236 non-null object\n",
      "Beer Name              164236 non-null int64\n",
      "Ratings                164236 non-null object\n",
      "Style Name             164236 non-null object\n",
      "Cellar Temperature     164236 non-null object\n",
      "Serving Temperature    164236 non-null object\n",
      "Score                  164236 non-null float64\n",
      "dtypes: float64(2), int64(2), object(6)\n",
      "memory usage: 13.8+ MB\n"
     ]
    }
   ],
   "source": [
    "train_df.info()"
   ]
  },
  {
   "cell_type": "code",
   "execution_count": 11,
   "metadata": {},
   "outputs": [
    {
     "data": {
      "text/html": [
       "<div>\n",
       "<style scoped>\n",
       "    .dataframe tbody tr th:only-of-type {\n",
       "        vertical-align: middle;\n",
       "    }\n",
       "\n",
       "    .dataframe tbody tr th {\n",
       "        vertical-align: top;\n",
       "    }\n",
       "\n",
       "    .dataframe thead th {\n",
       "        text-align: right;\n",
       "    }\n",
       "</style>\n",
       "<table border=\"1\" class=\"dataframe\">\n",
       "  <thead>\n",
       "    <tr style=\"text-align: right;\">\n",
       "      <th></th>\n",
       "      <th>ABV</th>\n",
       "      <th>Brewing Company</th>\n",
       "      <th>Food Paring</th>\n",
       "      <th>Glassware Used</th>\n",
       "      <th>Beer Name</th>\n",
       "      <th>Ratings</th>\n",
       "      <th>Style Name</th>\n",
       "      <th>Cellar Temperature</th>\n",
       "      <th>Serving Temperature</th>\n",
       "      <th>Score</th>\n",
       "    </tr>\n",
       "  </thead>\n",
       "  <tbody>\n",
       "    <tr>\n",
       "      <th>0</th>\n",
       "      <td>6.5</td>\n",
       "      <td>8929</td>\n",
       "      <td>(Curried,Thai)Cheese(pepperyMontereyPepperJack...</td>\n",
       "      <td>PintGlass(orBecker,Nonic,Tumbler),Mug(orSeidel...</td>\n",
       "      <td>15121</td>\n",
       "      <td>22</td>\n",
       "      <td>AmericanIPA</td>\n",
       "      <td>40-45</td>\n",
       "      <td>45-50</td>\n",
       "      <td>3.28</td>\n",
       "    </tr>\n",
       "    <tr>\n",
       "      <th>1</th>\n",
       "      <td>5.5</td>\n",
       "      <td>13187</td>\n",
       "      <td>(PanAsian)Cheese(earthyCamembert,Fontina,nutty...</td>\n",
       "      <td>PintGlass(orBecker,Nonic,Tumbler),Mug(orSeidel...</td>\n",
       "      <td>59817</td>\n",
       "      <td>1</td>\n",
       "      <td>AmericanPaleAle(APA)</td>\n",
       "      <td>35-40</td>\n",
       "      <td>40-45</td>\n",
       "      <td>3.52</td>\n",
       "    </tr>\n",
       "    <tr>\n",
       "      <th>2</th>\n",
       "      <td>8.1</td>\n",
       "      <td>6834</td>\n",
       "      <td>Meat(Pork,Poultry)</td>\n",
       "      <td>PintGlass(orBecker,Nonic,Tumbler),Mug(orSeidel...</td>\n",
       "      <td>32669</td>\n",
       "      <td>3</td>\n",
       "      <td>IrishRedAle</td>\n",
       "      <td>35-40</td>\n",
       "      <td>40-45</td>\n",
       "      <td>4.01</td>\n",
       "    </tr>\n",
       "    <tr>\n",
       "      <th>4</th>\n",
       "      <td>6.0</td>\n",
       "      <td>10417</td>\n",
       "      <td>Meat(Poultry,Fish,Shellfish)</td>\n",
       "      <td>PilsenerGlass(orPokal)</td>\n",
       "      <td>124087</td>\n",
       "      <td>1</td>\n",
       "      <td>EuroPaleLager</td>\n",
       "      <td>35-40</td>\n",
       "      <td>40-45</td>\n",
       "      <td>2.73</td>\n",
       "    </tr>\n",
       "    <tr>\n",
       "      <th>5</th>\n",
       "      <td>7.4</td>\n",
       "      <td>3380</td>\n",
       "      <td>(Italian,German)Cheese(nuttyAsiago,Colby,Parme...</td>\n",
       "      <td>Flute,PilsenerGlass(orPokal),Mug(orSeidel,Stein)</td>\n",
       "      <td>9936</td>\n",
       "      <td>1</td>\n",
       "      <td>MaibockHellesBock</td>\n",
       "      <td>40-45</td>\n",
       "      <td>45-50</td>\n",
       "      <td>3.86</td>\n",
       "    </tr>\n",
       "  </tbody>\n",
       "</table>\n",
       "</div>"
      ],
      "text/plain": [
       "   ABV  Brewing Company                                        Food Paring  \\\n",
       "0  6.5             8929  (Curried,Thai)Cheese(pepperyMontereyPepperJack...   \n",
       "1  5.5            13187  (PanAsian)Cheese(earthyCamembert,Fontina,nutty...   \n",
       "2  8.1             6834                                 Meat(Pork,Poultry)   \n",
       "4  6.0            10417                       Meat(Poultry,Fish,Shellfish)   \n",
       "5  7.4             3380  (Italian,German)Cheese(nuttyAsiago,Colby,Parme...   \n",
       "\n",
       "                                      Glassware Used  Beer Name Ratings  \\\n",
       "0  PintGlass(orBecker,Nonic,Tumbler),Mug(orSeidel...      15121      22   \n",
       "1  PintGlass(orBecker,Nonic,Tumbler),Mug(orSeidel...      59817       1   \n",
       "2  PintGlass(orBecker,Nonic,Tumbler),Mug(orSeidel...      32669       3   \n",
       "4                             PilsenerGlass(orPokal)     124087       1   \n",
       "5   Flute,PilsenerGlass(orPokal),Mug(orSeidel,Stein)       9936       1   \n",
       "\n",
       "             Style Name Cellar Temperature Serving Temperature  Score  \n",
       "0           AmericanIPA              40-45               45-50   3.28  \n",
       "1  AmericanPaleAle(APA)              35-40               40-45   3.52  \n",
       "2           IrishRedAle              35-40               40-45   4.01  \n",
       "4         EuroPaleLager              35-40               40-45   2.73  \n",
       "5     MaibockHellesBock              40-45               45-50   3.86  "
      ]
     },
     "execution_count": 11,
     "metadata": {},
     "output_type": "execute_result"
    }
   ],
   "source": [
    "train_df.head()"
   ]
  },
  {
   "cell_type": "code",
   "execution_count": 12,
   "metadata": {},
   "outputs": [],
   "source": [
    "import re"
   ]
  },
  {
   "cell_type": "code",
   "execution_count": 13,
   "metadata": {},
   "outputs": [],
   "source": [
    "GlasswareUsed = []\n",
    "items = train_df['Glassware Used']\n",
    "for item in train_df['Glassware Used']:\n",
    "    review = re.sub(r\" ?\\([^)]+\\)\", \"\", item)\n",
    "    review = review.lower() \n",
    "    review = review.split(',')\n",
    "    review = ' '.join(review)\n",
    "    GlasswareUsed.append(review)    \n",
    "#cv = CountVectorizer(max_features = 1500)\n",
    "#GlasswareUsed = cv.fit_transform(GlasswareUsed).toarray()"
   ]
  },
  {
   "cell_type": "code",
   "execution_count": 14,
   "metadata": {},
   "outputs": [],
   "source": [
    "from sklearn.feature_extraction.text import CountVectorizer\n",
    "cv = CountVectorizer(max_features = 1500)\n",
    "gu = cv.fit_transform(GlasswareUsed).toarray()"
   ]
  },
  {
   "cell_type": "code",
   "execution_count": 15,
   "metadata": {},
   "outputs": [],
   "source": [
    "df=pd.DataFrame(gu)"
   ]
  },
  {
   "cell_type": "code",
   "execution_count": 16,
   "metadata": {},
   "outputs": [],
   "source": [
    "unique_words = list(set(\" \".join(GlasswareUsed).split(\" \")))"
   ]
  },
  {
   "cell_type": "code",
   "execution_count": 17,
   "metadata": {},
   "outputs": [],
   "source": [
    "df.columns = unique_words"
   ]
  },
  {
   "cell_type": "code",
   "execution_count": 22,
   "metadata": {},
   "outputs": [],
   "source": [
    "GlasswareUsed1 = []\n",
    "items = test_df['Glassware Used']\n",
    "for item in test_df['Glassware Used']:\n",
    "    review1 = re.sub(r\" ?\\([^)]+\\)\", \"\", item)\n",
    "    review1 = review1.lower() \n",
    "    review1 = review1.split(',')\n",
    "    review1 = ' '.join(review1)\n",
    "    GlasswareUsed1.append(review1)    \n",
    "cv = CountVectorizer(max_features = 1500)\n",
    "testgu = cv.fit_transform(GlasswareUsed1).toarray()\n",
    "df_testgu=pd.DataFrame(testgu)\n",
    "unique_words1 = list(set(\" \".join(GlasswareUsed1).split(\" \")))\n",
    "df_testgu.columns = unique_words1"
   ]
  },
  {
   "cell_type": "code",
   "execution_count": 25,
   "metadata": {},
   "outputs": [
    {
     "data": {
      "text/html": [
       "<div>\n",
       "<style scoped>\n",
       "    .dataframe tbody tr th:only-of-type {\n",
       "        vertical-align: middle;\n",
       "    }\n",
       "\n",
       "    .dataframe tbody tr th {\n",
       "        vertical-align: top;\n",
       "    }\n",
       "\n",
       "    .dataframe thead th {\n",
       "        text-align: right;\n",
       "    }\n",
       "</style>\n",
       "<table border=\"1\" class=\"dataframe\">\n",
       "  <thead>\n",
       "    <tr style=\"text-align: right;\">\n",
       "      <th></th>\n",
       "      <th>snifter</th>\n",
       "      <th>pintglass</th>\n",
       "      <th>weizenglass</th>\n",
       "      <th>tulip</th>\n",
       "      <th>pilsenerglass</th>\n",
       "      <th>goblet</th>\n",
       "      <th>mug</th>\n",
       "      <th>flute</th>\n",
       "      <th>oversizedwineglass</th>\n",
       "      <th>stange</th>\n",
       "    </tr>\n",
       "  </thead>\n",
       "  <tbody>\n",
       "    <tr>\n",
       "      <th>0</th>\n",
       "      <td>0</td>\n",
       "      <td>0</td>\n",
       "      <td>0</td>\n",
       "      <td>0</td>\n",
       "      <td>0</td>\n",
       "      <td>1</td>\n",
       "      <td>0</td>\n",
       "      <td>0</td>\n",
       "      <td>0</td>\n",
       "      <td>0</td>\n",
       "    </tr>\n",
       "    <tr>\n",
       "      <th>1</th>\n",
       "      <td>0</td>\n",
       "      <td>0</td>\n",
       "      <td>0</td>\n",
       "      <td>0</td>\n",
       "      <td>0</td>\n",
       "      <td>1</td>\n",
       "      <td>0</td>\n",
       "      <td>0</td>\n",
       "      <td>0</td>\n",
       "      <td>0</td>\n",
       "    </tr>\n",
       "    <tr>\n",
       "      <th>2</th>\n",
       "      <td>0</td>\n",
       "      <td>0</td>\n",
       "      <td>0</td>\n",
       "      <td>1</td>\n",
       "      <td>0</td>\n",
       "      <td>0</td>\n",
       "      <td>1</td>\n",
       "      <td>1</td>\n",
       "      <td>0</td>\n",
       "      <td>0</td>\n",
       "    </tr>\n",
       "    <tr>\n",
       "      <th>3</th>\n",
       "      <td>1</td>\n",
       "      <td>0</td>\n",
       "      <td>0</td>\n",
       "      <td>0</td>\n",
       "      <td>1</td>\n",
       "      <td>0</td>\n",
       "      <td>0</td>\n",
       "      <td>0</td>\n",
       "      <td>0</td>\n",
       "      <td>0</td>\n",
       "    </tr>\n",
       "    <tr>\n",
       "      <th>4</th>\n",
       "      <td>0</td>\n",
       "      <td>0</td>\n",
       "      <td>0</td>\n",
       "      <td>0</td>\n",
       "      <td>0</td>\n",
       "      <td>1</td>\n",
       "      <td>0</td>\n",
       "      <td>0</td>\n",
       "      <td>0</td>\n",
       "      <td>0</td>\n",
       "    </tr>\n",
       "  </tbody>\n",
       "</table>\n",
       "</div>"
      ],
      "text/plain": [
       "   snifter  pintglass  weizenglass  tulip  pilsenerglass  goblet  mug  flute  \\\n",
       "0        0          0            0      0              0       1    0      0   \n",
       "1        0          0            0      0              0       1    0      0   \n",
       "2        0          0            0      1              0       0    1      1   \n",
       "3        1          0            0      0              1       0    0      0   \n",
       "4        0          0            0      0              0       1    0      0   \n",
       "\n",
       "   oversizedwineglass  stange  \n",
       "0                   0       0  \n",
       "1                   0       0  \n",
       "2                   0       0  \n",
       "3                   0       0  \n",
       "4                   0       0  "
      ]
     },
     "execution_count": 25,
     "metadata": {},
     "output_type": "execute_result"
    }
   ],
   "source": [
    "df_testgu.head()"
   ]
  },
  {
   "cell_type": "code",
   "execution_count": 24,
   "metadata": {},
   "outputs": [],
   "source": [
    "df_testgu.drop(columns=['none','yet'],inplace=True)"
   ]
  },
  {
   "cell_type": "code",
   "execution_count": 26,
   "metadata": {},
   "outputs": [],
   "source": [
    "FoodParing = []\n",
    "for i in train_df['Food Paring'] :\n",
    "    review = re.sub(r\" ?\\([^)]+\\)\", \",\", i)\n",
    "    review = review.lower() \n",
    "    review=review.split(',')\n",
    "    review = ' '.join(review)\n",
    "    FoodParing.append(review)\n"
   ]
  },
  {
   "cell_type": "code",
   "execution_count": 27,
   "metadata": {},
   "outputs": [],
   "source": [
    "unique_words_f = list(set(\" \".join(FoodParing).split(\" \")))"
   ]
  },
  {
   "cell_type": "code",
   "execution_count": 28,
   "metadata": {},
   "outputs": [],
   "source": [
    "unique_words_f = list(set(\" \".join(FoodParing).split(\" \")))"
   ]
  },
  {
   "cell_type": "code",
   "execution_count": 29,
   "metadata": {},
   "outputs": [
    {
     "data": {
      "text/plain": [
       "['', 'none', 'cheese', 'yet', 'general', 'meat']"
      ]
     },
     "execution_count": 29,
     "metadata": {},
     "output_type": "execute_result"
    }
   ],
   "source": [
    "unique_words_f"
   ]
  },
  {
   "cell_type": "code",
   "execution_count": 30,
   "metadata": {},
   "outputs": [],
   "source": [
    "unique_words_f = unique_words_f.remove('')\n",
    "unique_words_f"
   ]
  },
  {
   "cell_type": "code",
   "execution_count": 31,
   "metadata": {},
   "outputs": [],
   "source": [
    "cv = CountVectorizer(max_features = 1500)\n",
    "fp = cv.fit_transform(FoodParing).toarray()"
   ]
  },
  {
   "cell_type": "code",
   "execution_count": 32,
   "metadata": {},
   "outputs": [],
   "source": [
    "df_fp=pd.DataFrame(fp)"
   ]
  },
  {
   "cell_type": "code",
   "execution_count": 34,
   "metadata": {},
   "outputs": [],
   "source": [
    "df_fp.columns=['Cheese', '1', 'meat', 'yet', 'general']"
   ]
  },
  {
   "cell_type": "code",
   "execution_count": 35,
   "metadata": {},
   "outputs": [],
   "source": [
    "FoodParing = []\n",
    "for i in test_df['Food Paring'] :\n",
    "    review = re.sub(r\" ?\\([^)]+\\)\", \",\", i)\n",
    "    review = review.lower() \n",
    "    review=review.split(',')\n",
    "    review = ' '.join(review)\n",
    "    FoodParing.append(review)\n",
    "cv = CountVectorizer(max_features = 1500)\n",
    "fp = cv.fit_transform(FoodParing).toarray()\n",
    "df_testfp=pd.DataFrame(fp)\n",
    "df_testfp.columns=[ 'Cheese', '1', 'meat', 'yet', 'general']"
   ]
  },
  {
   "cell_type": "code",
   "execution_count": 36,
   "metadata": {},
   "outputs": [],
   "source": [
    "train_df.reset_index(inplace=True)"
   ]
  },
  {
   "cell_type": "code",
   "execution_count": 37,
   "metadata": {},
   "outputs": [],
   "source": [
    "result = pd.concat([train_df,df,df_fp],axis=1)"
   ]
  },
  {
   "cell_type": "code",
   "execution_count": 38,
   "metadata": {},
   "outputs": [],
   "source": [
    "test_result = pd.concat([test_df,df_testgu,df_testfp],axis=1)"
   ]
  },
  {
   "cell_type": "code",
   "execution_count": 39,
   "metadata": {},
   "outputs": [
    {
     "data": {
      "text/plain": [
       "level_0                0\n",
       "index                  0\n",
       "ABV                    0\n",
       "Brewing Company        0\n",
       "Food Paring            0\n",
       "Glassware Used         0\n",
       "Beer Name              0\n",
       "Ratings                0\n",
       "Style Name             0\n",
       "Cellar Temperature     0\n",
       "Serving Temperature    0\n",
       "Score                  0\n",
       "snifter                0\n",
       "pintglass              0\n",
       "weizenglass            0\n",
       "tulip                  0\n",
       "pilsenerglass          0\n",
       "goblet                 0\n",
       "mug                    0\n",
       "flute                  0\n",
       "oversizedwineglass     0\n",
       "stange                 0\n",
       "Cheese                 0\n",
       "1                      0\n",
       "meat                   0\n",
       "yet                    0\n",
       "general                0\n",
       "dtype: int64"
      ]
     },
     "execution_count": 39,
     "metadata": {},
     "output_type": "execute_result"
    }
   ],
   "source": [
    "result.isnull().sum()"
   ]
  },
  {
   "cell_type": "code",
   "execution_count": 40,
   "metadata": {},
   "outputs": [
    {
     "data": {
      "text/plain": [
       "ABV                        0\n",
       "Brewing Company            0\n",
       "Food Paring                0\n",
       "Glassware Used             0\n",
       "Beer Name                  0\n",
       "Ratings                    0\n",
       "Style Name                 0\n",
       "Cellar Temperature         0\n",
       "Serving Temperature        0\n",
       "Score                  20628\n",
       "snifter                    0\n",
       "pintglass                  0\n",
       "weizenglass                0\n",
       "tulip                      0\n",
       "pilsenerglass              0\n",
       "goblet                     0\n",
       "mug                        0\n",
       "flute                      0\n",
       "oversizedwineglass         0\n",
       "stange                     0\n",
       "Cheese                     0\n",
       "1                          0\n",
       "meat                       0\n",
       "yet                        0\n",
       "general                    0\n",
       "dtype: int64"
      ]
     },
     "execution_count": 40,
     "metadata": {},
     "output_type": "execute_result"
    }
   ],
   "source": [
    "test_result.isnull().sum()"
   ]
  },
  {
   "cell_type": "code",
   "execution_count": 41,
   "metadata": {},
   "outputs": [],
   "source": [
    "Cel_Tmp_map = {\n",
    "'35-40': 1,\n",
    "'40-45': 2,\n",
    "'45-50': 3}"
   ]
  },
  {
   "cell_type": "code",
   "execution_count": 42,
   "metadata": {},
   "outputs": [],
   "source": [
    "result['CellarTemperature_New'] = result['Cellar Temperature'].map(Cel_Tmp_map)"
   ]
  },
  {
   "cell_type": "code",
   "execution_count": 43,
   "metadata": {},
   "outputs": [
    {
     "data": {
      "text/plain": [
       "array(['45-50', '40-45', '50-55', '35-40'], dtype=object)"
      ]
     },
     "execution_count": 43,
     "metadata": {},
     "output_type": "execute_result"
    }
   ],
   "source": [
    "result['Serving Temperature'].unique()"
   ]
  },
  {
   "cell_type": "code",
   "execution_count": 44,
   "metadata": {},
   "outputs": [],
   "source": [
    "test_result['CellarTemperature_New'] = test_result['Cellar Temperature'].map(Cel_Tmp_map)"
   ]
  },
  {
   "cell_type": "code",
   "execution_count": 45,
   "metadata": {},
   "outputs": [],
   "source": [
    "Ser_Tmp_map = {'45-50' : 1, '40-45':2, '35-40':3, '50-55':4}"
   ]
  },
  {
   "cell_type": "code",
   "execution_count": 46,
   "metadata": {},
   "outputs": [],
   "source": [
    "result['ServingTemperature_New'] = result['Serving Temperature'].map(Ser_Tmp_map)"
   ]
  },
  {
   "cell_type": "code",
   "execution_count": 47,
   "metadata": {},
   "outputs": [],
   "source": [
    "test_result['ServingTemperature_New'] = test_result['Serving Temperature'].map(Ser_Tmp_map)"
   ]
  },
  {
   "cell_type": "code",
   "execution_count": 49,
   "metadata": {},
   "outputs": [],
   "source": [
    "from sklearn.preprocessing import LabelEncoder\n",
    "le = LabelEncoder()\n",
    "result['StyleName_New'] = le.fit_transform(result['Style Name'])\n",
    "test_result['StyleName_New'] = le.fit_transform(test_result['Style Name'])"
   ]
  },
  {
   "cell_type": "code",
   "execution_count": 52,
   "metadata": {},
   "outputs": [],
   "source": [
    "le = LabelEncoder()\n",
    "result['BrewingCompany_New'] = le.fit_transform(result['Brewing Company'])\n",
    "test_result['BrewingCompany_New'] = le.fit_transform(test_result['Brewing Company'])"
   ]
  },
  {
   "cell_type": "code",
   "execution_count": 54,
   "metadata": {},
   "outputs": [],
   "source": [
    "le = LabelEncoder()\n",
    "result['Beer_New'] = le.fit_transform(result['Beer Name'])\n",
    "test_result['Beer_New'] = le.fit_transform(test_result['Beer Name'])"
   ]
  },
  {
   "cell_type": "code",
   "execution_count": 55,
   "metadata": {},
   "outputs": [
    {
     "data": {
      "text/plain": [
       "Index(['level_0', 'index', 'ABV', 'Brewing Company', 'Food Paring',\n",
       "       'Glassware Used', 'Beer Name', 'Ratings', 'Style Name',\n",
       "       'Cellar Temperature', 'Serving Temperature', 'Score', 'snifter',\n",
       "       'pintglass', 'weizenglass', 'tulip', 'pilsenerglass', 'goblet', 'mug',\n",
       "       'flute', 'oversizedwineglass', 'stange', 'Cheese', '1', 'meat', 'yet',\n",
       "       'general', 'CellarTemperature_New', 'ServingTemperature_New',\n",
       "       'StyleName_New', 'BrewingCompany_New', 'Beer_New'],\n",
       "      dtype='object')"
      ]
     },
     "execution_count": 55,
     "metadata": {},
     "output_type": "execute_result"
    }
   ],
   "source": [
    "result.columns"
   ]
  },
  {
   "cell_type": "code",
   "execution_count": 56,
   "metadata": {},
   "outputs": [
    {
     "data": {
      "text/plain": [
       "Index(['ABV', 'Brewing Company', 'Food Paring', 'Glassware Used', 'Beer Name',\n",
       "       'Ratings', 'Style Name', 'Cellar Temperature', 'Serving Temperature',\n",
       "       'Score', 'snifter', 'pintglass', 'weizenglass', 'tulip',\n",
       "       'pilsenerglass', 'goblet', 'mug', 'flute', 'oversizedwineglass',\n",
       "       'stange', 'Cheese', '1', 'meat', 'yet', 'general',\n",
       "       'CellarTemperature_New', 'ServingTemperature_New', 'StyleName_New',\n",
       "       'BrewingCompany_New', 'Beer_New'],\n",
       "      dtype='object')"
      ]
     },
     "execution_count": 56,
     "metadata": {},
     "output_type": "execute_result"
    }
   ],
   "source": [
    "test_result.columns"
   ]
  },
  {
   "cell_type": "code",
   "execution_count": 57,
   "metadata": {},
   "outputs": [],
   "source": [
    "result = result.drop(columns=['level_0', 'index', 'Brewing Company', 'Food Paring',\n",
    "       'Glassware Used', 'Beer Name','Cellar Temperature', 'Serving Temperature', 'Style Name','1'])"
   ]
  },
  {
   "cell_type": "code",
   "execution_count": 58,
   "metadata": {},
   "outputs": [],
   "source": [
    "test_result = test_result.drop(columns=['Brewing Company', 'Food Paring',\n",
    "       'Glassware Used', 'Beer Name','Cellar Temperature', 'Serving Temperature', 'Style Name','1'])"
   ]
  },
  {
   "cell_type": "code",
   "execution_count": 59,
   "metadata": {},
   "outputs": [
    {
     "name": "stdout",
     "output_type": "stream",
     "text": [
      "<class 'pandas.core.frame.DataFrame'>\n",
      "RangeIndex: 164236 entries, 0 to 164235\n",
      "Data columns (total 22 columns):\n",
      "ABV                       164236 non-null float64\n",
      "Ratings                   164236 non-null object\n",
      "Score                     164236 non-null float64\n",
      "snifter                   164236 non-null int64\n",
      "pintglass                 164236 non-null int64\n",
      "weizenglass               164236 non-null int64\n",
      "tulip                     164236 non-null int64\n",
      "pilsenerglass             164236 non-null int64\n",
      "goblet                    164236 non-null int64\n",
      "mug                       164236 non-null int64\n",
      "flute                     164236 non-null int64\n",
      "oversizedwineglass        164236 non-null int64\n",
      "stange                    164236 non-null int64\n",
      "Cheese                    164236 non-null int64\n",
      "meat                      164236 non-null int64\n",
      "yet                       164236 non-null int64\n",
      "general                   164236 non-null int64\n",
      "CellarTemperature_New     164236 non-null int64\n",
      "ServingTemperature_New    164236 non-null int64\n",
      "StyleName_New             164236 non-null int32\n",
      "BrewingCompany_New        164236 non-null int64\n",
      "Beer_New                  164236 non-null int64\n",
      "dtypes: float64(2), int32(1), int64(18), object(1)\n",
      "memory usage: 26.9+ MB\n"
     ]
    }
   ],
   "source": [
    "result.info()"
   ]
  },
  {
   "cell_type": "code",
   "execution_count": 67,
   "metadata": {},
   "outputs": [],
   "source": [
    "result['Ratings'] = result.Ratings.str.replace(',','').astype('int')"
   ]
  },
  {
   "cell_type": "code",
   "execution_count": null,
   "metadata": {},
   "outputs": [],
   "source": [
    "test_result['Ratings'] = test_result.Ratings.str.replace(',','').astype('int')"
   ]
  },
  {
   "cell_type": "code",
   "execution_count": 69,
   "metadata": {},
   "outputs": [
    {
     "name": "stdout",
     "output_type": "stream",
     "text": [
      "<class 'pandas.core.frame.DataFrame'>\n",
      "RangeIndex: 20628 entries, 0 to 20627\n",
      "Data columns (total 22 columns):\n",
      "ABV                       20628 non-null float64\n",
      "Ratings                   20628 non-null int32\n",
      "Score                     0 non-null float64\n",
      "snifter                   20628 non-null int64\n",
      "pintglass                 20628 non-null int64\n",
      "weizenglass               20628 non-null int64\n",
      "tulip                     20628 non-null int64\n",
      "pilsenerglass             20628 non-null int64\n",
      "goblet                    20628 non-null int64\n",
      "mug                       20628 non-null int64\n",
      "flute                     20628 non-null int64\n",
      "oversizedwineglass        20628 non-null int64\n",
      "stange                    20628 non-null int64\n",
      "Cheese                    20628 non-null int64\n",
      "meat                      20628 non-null int64\n",
      "yet                       20628 non-null int64\n",
      "general                   20628 non-null int64\n",
      "CellarTemperature_New     20628 non-null int64\n",
      "ServingTemperature_New    20628 non-null int64\n",
      "StyleName_New             20628 non-null int32\n",
      "BrewingCompany_New        20628 non-null int64\n",
      "Beer_New                  20628 non-null int64\n",
      "dtypes: float64(2), int32(2), int64(18)\n",
      "memory usage: 3.3 MB\n"
     ]
    }
   ],
   "source": [
    "test_result.info()"
   ]
  },
  {
   "cell_type": "code",
   "execution_count": 70,
   "metadata": {},
   "outputs": [
    {
     "data": {
      "text/html": [
       "<div>\n",
       "<style scoped>\n",
       "    .dataframe tbody tr th:only-of-type {\n",
       "        vertical-align: middle;\n",
       "    }\n",
       "\n",
       "    .dataframe tbody tr th {\n",
       "        vertical-align: top;\n",
       "    }\n",
       "\n",
       "    .dataframe thead th {\n",
       "        text-align: right;\n",
       "    }\n",
       "</style>\n",
       "<table border=\"1\" class=\"dataframe\">\n",
       "  <thead>\n",
       "    <tr style=\"text-align: right;\">\n",
       "      <th></th>\n",
       "      <th>ABV</th>\n",
       "      <th>Ratings</th>\n",
       "      <th>Score</th>\n",
       "      <th>snifter</th>\n",
       "      <th>pintglass</th>\n",
       "      <th>weizenglass</th>\n",
       "      <th>tulip</th>\n",
       "      <th>pilsenerglass</th>\n",
       "      <th>goblet</th>\n",
       "      <th>mug</th>\n",
       "      <th>...</th>\n",
       "      <th>stange</th>\n",
       "      <th>Cheese</th>\n",
       "      <th>meat</th>\n",
       "      <th>yet</th>\n",
       "      <th>general</th>\n",
       "      <th>CellarTemperature_New</th>\n",
       "      <th>ServingTemperature_New</th>\n",
       "      <th>StyleName_New</th>\n",
       "      <th>BrewingCompany_New</th>\n",
       "      <th>Beer_New</th>\n",
       "    </tr>\n",
       "  </thead>\n",
       "  <tbody>\n",
       "    <tr>\n",
       "      <th>0</th>\n",
       "      <td>6.5</td>\n",
       "      <td>22</td>\n",
       "      <td>3.28</td>\n",
       "      <td>0</td>\n",
       "      <td>0</td>\n",
       "      <td>1</td>\n",
       "      <td>0</td>\n",
       "      <td>0</td>\n",
       "      <td>1</td>\n",
       "      <td>0</td>\n",
       "      <td>...</td>\n",
       "      <td>0</td>\n",
       "      <td>1</td>\n",
       "      <td>1</td>\n",
       "      <td>0</td>\n",
       "      <td>0</td>\n",
       "      <td>2</td>\n",
       "      <td>1</td>\n",
       "      <td>12</td>\n",
       "      <td>8370</td>\n",
       "      <td>12287</td>\n",
       "    </tr>\n",
       "    <tr>\n",
       "      <th>1</th>\n",
       "      <td>5.5</td>\n",
       "      <td>1</td>\n",
       "      <td>3.52</td>\n",
       "      <td>0</td>\n",
       "      <td>0</td>\n",
       "      <td>1</td>\n",
       "      <td>0</td>\n",
       "      <td>0</td>\n",
       "      <td>1</td>\n",
       "      <td>0</td>\n",
       "      <td>...</td>\n",
       "      <td>0</td>\n",
       "      <td>1</td>\n",
       "      <td>1</td>\n",
       "      <td>0</td>\n",
       "      <td>0</td>\n",
       "      <td>1</td>\n",
       "      <td>2</td>\n",
       "      <td>14</td>\n",
       "      <td>12329</td>\n",
       "      <td>48529</td>\n",
       "    </tr>\n",
       "    <tr>\n",
       "      <th>2</th>\n",
       "      <td>8.1</td>\n",
       "      <td>3</td>\n",
       "      <td>4.01</td>\n",
       "      <td>0</td>\n",
       "      <td>0</td>\n",
       "      <td>1</td>\n",
       "      <td>0</td>\n",
       "      <td>0</td>\n",
       "      <td>1</td>\n",
       "      <td>0</td>\n",
       "      <td>...</td>\n",
       "      <td>0</td>\n",
       "      <td>0</td>\n",
       "      <td>1</td>\n",
       "      <td>0</td>\n",
       "      <td>0</td>\n",
       "      <td>1</td>\n",
       "      <td>2</td>\n",
       "      <td>58</td>\n",
       "      <td>6404</td>\n",
       "      <td>26361</td>\n",
       "    </tr>\n",
       "    <tr>\n",
       "      <th>3</th>\n",
       "      <td>6.0</td>\n",
       "      <td>1</td>\n",
       "      <td>2.73</td>\n",
       "      <td>0</td>\n",
       "      <td>0</td>\n",
       "      <td>0</td>\n",
       "      <td>0</td>\n",
       "      <td>1</td>\n",
       "      <td>0</td>\n",
       "      <td>0</td>\n",
       "      <td>...</td>\n",
       "      <td>0</td>\n",
       "      <td>0</td>\n",
       "      <td>1</td>\n",
       "      <td>0</td>\n",
       "      <td>0</td>\n",
       "      <td>1</td>\n",
       "      <td>2</td>\n",
       "      <td>46</td>\n",
       "      <td>9764</td>\n",
       "      <td>100964</td>\n",
       "    </tr>\n",
       "    <tr>\n",
       "      <th>4</th>\n",
       "      <td>7.4</td>\n",
       "      <td>1</td>\n",
       "      <td>3.86</td>\n",
       "      <td>1</td>\n",
       "      <td>0</td>\n",
       "      <td>1</td>\n",
       "      <td>0</td>\n",
       "      <td>1</td>\n",
       "      <td>0</td>\n",
       "      <td>0</td>\n",
       "      <td>...</td>\n",
       "      <td>0</td>\n",
       "      <td>1</td>\n",
       "      <td>1</td>\n",
       "      <td>0</td>\n",
       "      <td>0</td>\n",
       "      <td>2</td>\n",
       "      <td>1</td>\n",
       "      <td>67</td>\n",
       "      <td>3184</td>\n",
       "      <td>8118</td>\n",
       "    </tr>\n",
       "  </tbody>\n",
       "</table>\n",
       "<p>5 rows × 22 columns</p>\n",
       "</div>"
      ],
      "text/plain": [
       "   ABV  Ratings  Score  snifter  pintglass  weizenglass  tulip  pilsenerglass  \\\n",
       "0  6.5       22   3.28        0          0            1      0              0   \n",
       "1  5.5        1   3.52        0          0            1      0              0   \n",
       "2  8.1        3   4.01        0          0            1      0              0   \n",
       "3  6.0        1   2.73        0          0            0      0              1   \n",
       "4  7.4        1   3.86        1          0            1      0              1   \n",
       "\n",
       "   goblet  mug    ...     stange  Cheese  meat  yet  general  \\\n",
       "0       1    0    ...          0       1     1    0        0   \n",
       "1       1    0    ...          0       1     1    0        0   \n",
       "2       1    0    ...          0       0     1    0        0   \n",
       "3       0    0    ...          0       0     1    0        0   \n",
       "4       0    0    ...          0       1     1    0        0   \n",
       "\n",
       "   CellarTemperature_New  ServingTemperature_New  StyleName_New  \\\n",
       "0                      2                       1             12   \n",
       "1                      1                       2             14   \n",
       "2                      1                       2             58   \n",
       "3                      1                       2             46   \n",
       "4                      2                       1             67   \n",
       "\n",
       "   BrewingCompany_New  Beer_New  \n",
       "0                8370     12287  \n",
       "1               12329     48529  \n",
       "2                6404     26361  \n",
       "3                9764    100964  \n",
       "4                3184      8118  \n",
       "\n",
       "[5 rows x 22 columns]"
      ]
     },
     "execution_count": 70,
     "metadata": {},
     "output_type": "execute_result"
    }
   ],
   "source": [
    "result.head()"
   ]
  },
  {
   "cell_type": "code",
   "execution_count": 71,
   "metadata": {},
   "outputs": [
    {
     "data": {
      "text/html": [
       "<div>\n",
       "<style scoped>\n",
       "    .dataframe tbody tr th:only-of-type {\n",
       "        vertical-align: middle;\n",
       "    }\n",
       "\n",
       "    .dataframe tbody tr th {\n",
       "        vertical-align: top;\n",
       "    }\n",
       "\n",
       "    .dataframe thead th {\n",
       "        text-align: right;\n",
       "    }\n",
       "</style>\n",
       "<table border=\"1\" class=\"dataframe\">\n",
       "  <thead>\n",
       "    <tr style=\"text-align: right;\">\n",
       "      <th></th>\n",
       "      <th>ABV</th>\n",
       "      <th>Ratings</th>\n",
       "      <th>Score</th>\n",
       "      <th>snifter</th>\n",
       "      <th>pintglass</th>\n",
       "      <th>weizenglass</th>\n",
       "      <th>tulip</th>\n",
       "      <th>pilsenerglass</th>\n",
       "      <th>goblet</th>\n",
       "      <th>mug</th>\n",
       "      <th>...</th>\n",
       "      <th>stange</th>\n",
       "      <th>Cheese</th>\n",
       "      <th>meat</th>\n",
       "      <th>yet</th>\n",
       "      <th>general</th>\n",
       "      <th>CellarTemperature_New</th>\n",
       "      <th>ServingTemperature_New</th>\n",
       "      <th>StyleName_New</th>\n",
       "      <th>BrewingCompany_New</th>\n",
       "      <th>Beer_New</th>\n",
       "    </tr>\n",
       "  </thead>\n",
       "  <tbody>\n",
       "    <tr>\n",
       "      <th>0</th>\n",
       "      <td>6.2</td>\n",
       "      <td>3</td>\n",
       "      <td>NaN</td>\n",
       "      <td>0</td>\n",
       "      <td>0</td>\n",
       "      <td>0</td>\n",
       "      <td>0</td>\n",
       "      <td>0</td>\n",
       "      <td>1</td>\n",
       "      <td>0</td>\n",
       "      <td>...</td>\n",
       "      <td>0</td>\n",
       "      <td>1</td>\n",
       "      <td>1</td>\n",
       "      <td>0</td>\n",
       "      <td>0</td>\n",
       "      <td>2</td>\n",
       "      <td>1</td>\n",
       "      <td>12</td>\n",
       "      <td>4790</td>\n",
       "      <td>3980</td>\n",
       "    </tr>\n",
       "    <tr>\n",
       "      <th>1</th>\n",
       "      <td>5.3</td>\n",
       "      <td>20</td>\n",
       "      <td>NaN</td>\n",
       "      <td>0</td>\n",
       "      <td>0</td>\n",
       "      <td>0</td>\n",
       "      <td>0</td>\n",
       "      <td>0</td>\n",
       "      <td>1</td>\n",
       "      <td>0</td>\n",
       "      <td>...</td>\n",
       "      <td>0</td>\n",
       "      <td>1</td>\n",
       "      <td>1</td>\n",
       "      <td>0</td>\n",
       "      <td>0</td>\n",
       "      <td>2</td>\n",
       "      <td>1</td>\n",
       "      <td>16</td>\n",
       "      <td>4639</td>\n",
       "      <td>9966</td>\n",
       "    </tr>\n",
       "    <tr>\n",
       "      <th>2</th>\n",
       "      <td>7.0</td>\n",
       "      <td>0</td>\n",
       "      <td>NaN</td>\n",
       "      <td>0</td>\n",
       "      <td>0</td>\n",
       "      <td>0</td>\n",
       "      <td>1</td>\n",
       "      <td>0</td>\n",
       "      <td>0</td>\n",
       "      <td>1</td>\n",
       "      <td>...</td>\n",
       "      <td>0</td>\n",
       "      <td>1</td>\n",
       "      <td>0</td>\n",
       "      <td>0</td>\n",
       "      <td>0</td>\n",
       "      <td>3</td>\n",
       "      <td>1</td>\n",
       "      <td>21</td>\n",
       "      <td>4035</td>\n",
       "      <td>1929</td>\n",
       "    </tr>\n",
       "    <tr>\n",
       "      <th>3</th>\n",
       "      <td>5.2</td>\n",
       "      <td>2</td>\n",
       "      <td>NaN</td>\n",
       "      <td>1</td>\n",
       "      <td>0</td>\n",
       "      <td>0</td>\n",
       "      <td>0</td>\n",
       "      <td>1</td>\n",
       "      <td>0</td>\n",
       "      <td>0</td>\n",
       "      <td>...</td>\n",
       "      <td>0</td>\n",
       "      <td>0</td>\n",
       "      <td>1</td>\n",
       "      <td>0</td>\n",
       "      <td>0</td>\n",
       "      <td>1</td>\n",
       "      <td>2</td>\n",
       "      <td>90</td>\n",
       "      <td>5401</td>\n",
       "      <td>5602</td>\n",
       "    </tr>\n",
       "    <tr>\n",
       "      <th>4</th>\n",
       "      <td>8.1</td>\n",
       "      <td>5</td>\n",
       "      <td>NaN</td>\n",
       "      <td>0</td>\n",
       "      <td>0</td>\n",
       "      <td>0</td>\n",
       "      <td>0</td>\n",
       "      <td>0</td>\n",
       "      <td>1</td>\n",
       "      <td>0</td>\n",
       "      <td>...</td>\n",
       "      <td>0</td>\n",
       "      <td>1</td>\n",
       "      <td>1</td>\n",
       "      <td>0</td>\n",
       "      <td>0</td>\n",
       "      <td>2</td>\n",
       "      <td>1</td>\n",
       "      <td>16</td>\n",
       "      <td>4907</td>\n",
       "      <td>18433</td>\n",
       "    </tr>\n",
       "  </tbody>\n",
       "</table>\n",
       "<p>5 rows × 22 columns</p>\n",
       "</div>"
      ],
      "text/plain": [
       "   ABV  Ratings  Score  snifter  pintglass  weizenglass  tulip  pilsenerglass  \\\n",
       "0  6.2        3    NaN        0          0            0      0              0   \n",
       "1  5.3       20    NaN        0          0            0      0              0   \n",
       "2  7.0        0    NaN        0          0            0      1              0   \n",
       "3  5.2        2    NaN        1          0            0      0              1   \n",
       "4  8.1        5    NaN        0          0            0      0              0   \n",
       "\n",
       "   goblet  mug    ...     stange  Cheese  meat  yet  general  \\\n",
       "0       1    0    ...          0       1     1    0        0   \n",
       "1       1    0    ...          0       1     1    0        0   \n",
       "2       0    1    ...          0       1     0    0        0   \n",
       "3       0    0    ...          0       0     1    0        0   \n",
       "4       1    0    ...          0       1     1    0        0   \n",
       "\n",
       "   CellarTemperature_New  ServingTemperature_New  StyleName_New  \\\n",
       "0                      2                       1             12   \n",
       "1                      2                       1             16   \n",
       "2                      3                       1             21   \n",
       "3                      1                       2             90   \n",
       "4                      2                       1             16   \n",
       "\n",
       "   BrewingCompany_New  Beer_New  \n",
       "0                4790      3980  \n",
       "1                4639      9966  \n",
       "2                4035      1929  \n",
       "3                5401      5602  \n",
       "4                4907     18433  \n",
       "\n",
       "[5 rows x 22 columns]"
      ]
     },
     "execution_count": 71,
     "metadata": {},
     "output_type": "execute_result"
    }
   ],
   "source": [
    "test_result.head()"
   ]
  },
  {
   "cell_type": "code",
   "execution_count": 189,
   "metadata": {},
   "outputs": [
    {
     "data": {
      "text/plain": [
       "Index(['ABV', 'Ratings', 'Score', 'flute', 'goblet', 'pilsenerglass',\n",
       "       'oversizedwineglass', 'snifter', 'stange', 'mug', 'weizenglass',\n",
       "       'tulip', 'pintglass', 'Cheese', 'meat', 'yet', 'general',\n",
       "       'CellarTemperature_New', 'ServingTemperature_New', 'StyleName_New',\n",
       "       'BrewingCompany_New', 'Beer_New'],\n",
       "      dtype='object')"
      ]
     },
     "execution_count": 189,
     "metadata": {},
     "output_type": "execute_result"
    }
   ],
   "source": [
    "result.columns"
   ]
  },
  {
   "cell_type": "markdown",
   "metadata": {},
   "source": [
    ",, 'Beer_New','BrewingCompany_New'"
   ]
  },
  {
   "cell_type": "code",
   "execution_count": 108,
   "metadata": {},
   "outputs": [],
   "source": [
    "x= result[['ABV', 'Ratings', 'CellarTemperature_New', 'ServingTemperature_New', 'flute', 'goblet', 'pilsenerglass',\n",
    "           'oversizedwineglass', 'snifter', 'stange', 'mug', 'weizenglass','tulip', 'pintglass', 'Cheese', 'meat', 'yet', 'general',\n",
    "           'StyleName_New']]\n",
    "y= result.Score"
   ]
  },
  {
   "cell_type": "code",
   "execution_count": 73,
   "metadata": {},
   "outputs": [],
   "source": [
    "import seaborn as sns \n"
   ]
  },
  {
   "cell_type": "code",
   "execution_count": null,
   "metadata": {},
   "outputs": [],
   "source": [
    "#sns.pairplot(result)"
   ]
  },
  {
   "cell_type": "code",
   "execution_count": null,
   "metadata": {},
   "outputs": [],
   "source": [
    "[['ABV', 'Ratings', 'flute', 'goblet', 'pilsenerglass',\n",
    "       'oversizedwineglass', 'snifter', 'stange', 'mug', 'weizenglass',\n",
    "       'tulip', 'pintglass', 'Cheese', 'meat', 'yet', 'general',\n",
    "       'CellarTemperature_New', 'ServingTemperature_New', 'StyleName_New',\n",
    "       'BrewingCompany_New', 'Beer_New']]"
   ]
  },
  {
   "cell_type": "code",
   "execution_count": 110,
   "metadata": {},
   "outputs": [],
   "source": [
    "testdata=test_result[['ABV', 'Ratings', 'CellarTemperature_New', 'ServingTemperature_New', 'flute', 'goblet', 'pilsenerglass',\n",
    "                      'oversizedwineglass', 'snifter', 'stange', 'mug', 'weizenglass','tulip', 'pintglass', 'Cheese', 'meat', 'yet', 'general'\n",
    "                      ,'StyleName_New']]"
   ]
  },
  {
   "cell_type": "code",
   "execution_count": 75,
   "metadata": {},
   "outputs": [],
   "source": [
    "#from sklearn.preprocessing import StandardScaler\n",
    "from sklearn.model_selection import train_test_split"
   ]
  },
  {
   "cell_type": "code",
   "execution_count": 76,
   "metadata": {},
   "outputs": [
    {
     "name": "stderr",
     "output_type": "stream",
     "text": [
      "C:\\ProgramData\\Anaconda3\\lib\\site-packages\\sklearn\\preprocessing\\data.py:625: DataConversionWarning: Data with input dtype int32, int64, float64 were all converted to float64 by StandardScaler.\n",
      "  return self.partial_fit(X, y)\n",
      "C:\\ProgramData\\Anaconda3\\lib\\site-packages\\sklearn\\base.py:462: DataConversionWarning: Data with input dtype int32, int64, float64 were all converted to float64 by StandardScaler.\n",
      "  return self.fit(X, **fit_params).transform(X)\n"
     ]
    }
   ],
   "source": [
    "#sc_x = StandardScaler()\n",
    "#X = sc_x.fit_transform(x)"
   ]
  },
  {
   "cell_type": "code",
   "execution_count": null,
   "metadata": {},
   "outputs": [],
   "source": [
    "testdata"
   ]
  },
  {
   "cell_type": "code",
   "execution_count": 332,
   "metadata": {},
   "outputs": [
    {
     "name": "stderr",
     "output_type": "stream",
     "text": [
      "C:\\ProgramData\\Anaconda3\\lib\\site-packages\\sklearn\\preprocessing\\data.py:625: DataConversionWarning: Data with input dtype int32, int64, float64, object were all converted to float64 by StandardScaler.\n",
      "  return self.partial_fit(X, y)\n",
      "C:\\ProgramData\\Anaconda3\\lib\\site-packages\\sklearn\\base.py:462: DataConversionWarning: Data with input dtype int32, int64, float64, object were all converted to float64 by StandardScaler.\n",
      "  return self.fit(X, **fit_params).transform(X)\n"
     ]
    }
   ],
   "source": [
    "#x_testdata = sc_x.fit_transform(testdata)"
   ]
  },
  {
   "cell_type": "code",
   "execution_count": 111,
   "metadata": {},
   "outputs": [],
   "source": [
    "x_train,x_test,y_train,y_test = train_test_split(x,y,test_size=0.3, random_state=0)"
   ]
  },
  {
   "cell_type": "code",
   "execution_count": 83,
   "metadata": {},
   "outputs": [],
   "source": [
    "import xgboost\n",
    "from xgboost import XGBRegressor"
   ]
  },
  {
   "cell_type": "code",
   "execution_count": 89,
   "metadata": {},
   "outputs": [],
   "source": [
    "parameters = {'nthread':[4], #when use hyperthread, xgboost may become slower\n",
    "              'objective':['reg:linear'],\n",
    "              'learning_rate': [0.03, 0.05, .07,0.1,0.2,0.3], #so called `eta` value\n",
    "              'max_depth': [5, 6, 7,9,9,10,11],\n",
    "              'min_child_weight': [4,2,3,5,6],\n",
    "              'silent': [1],\n",
    "              'subsample': [0.7],\n",
    "              'colsample_bytree': [0.7],\n",
    "              'n_estimators': [10,50,70,100,130,150,170,200,300,400,500]}"
   ]
  },
  {
   "cell_type": "code",
   "execution_count": 90,
   "metadata": {},
   "outputs": [],
   "source": [
    "from sklearn.model_selection import RandomizedSearchCV\n",
    "r_search= RandomizedSearchCV(XGBRegressor(),parameters,cv=10,n_jobs=-1)"
   ]
  },
  {
   "cell_type": "code",
   "execution_count": 91,
   "metadata": {},
   "outputs": [
    {
     "name": "stderr",
     "output_type": "stream",
     "text": [
      "C:\\ProgramData\\Anaconda3\\lib\\site-packages\\xgboost\\core.py:587: FutureWarning: Series.base is deprecated and will be removed in a future version\n",
      "  if getattr(data, 'base', None) is not None and \\\n"
     ]
    },
    {
     "data": {
      "text/plain": [
       "RandomizedSearchCV(cv=10, error_score='raise-deprecating',\n",
       "          estimator=XGBRegressor(base_score=0.5, booster='gbtree', colsample_bylevel=1,\n",
       "       colsample_bytree=1, gamma=0, importance_type='gain',\n",
       "       learning_rate=0.1, max_delta_step=0, max_depth=3,\n",
       "       min_child_weight=1, missing=None, n_estimators=100, n_jobs=1,\n",
       "       nthread=None, objective='reg:linear', random_state=0, reg_alpha=0,\n",
       "       reg_lambda=1, scale_pos_weight=1, seed=None, silent=True,\n",
       "       subsample=1),\n",
       "          fit_params=None, iid='warn', n_iter=10, n_jobs=-1,\n",
       "          param_distributions={'nthread': [4], 'objective': ['reg:linear'], 'learning_rate': [0.03, 0.05, 0.07, 0.1, 0.2, 0.3], 'max_depth': [5, 6, 7, 9, 9, 10, 11], 'min_child_weight': [4, 2, 3, 5, 6], 'silent': [1], 'subsample': [0.7], 'colsample_bytree': [0.7], 'n_estimators': [10, 50, 70, 100, 130, 150, 170, 200, 300, 400, 500]},\n",
       "          pre_dispatch='2*n_jobs', random_state=None, refit=True,\n",
       "          return_train_score='warn', scoring=None, verbose=0)"
      ]
     },
     "execution_count": 91,
     "metadata": {},
     "output_type": "execute_result"
    }
   ],
   "source": [
    "r_search.fit(x_train,y_train)"
   ]
  },
  {
   "cell_type": "code",
   "execution_count": 92,
   "metadata": {},
   "outputs": [
    {
     "name": "stdout",
     "output_type": "stream",
     "text": [
      "0.9327180069812134\n",
      "{'subsample': 0.7, 'silent': 1, 'objective': 'reg:linear', 'nthread': 4, 'n_estimators': 170, 'min_child_weight': 5, 'max_depth': 9, 'learning_rate': 0.05, 'colsample_bytree': 0.7}\n"
     ]
    }
   ],
   "source": [
    "print(r_search.best_score_)\n",
    "print(r_search.best_params_)"
   ]
  },
  {
   "cell_type": "code",
   "execution_count": 112,
   "metadata": {},
   "outputs": [
    {
     "name": "stderr",
     "output_type": "stream",
     "text": [
      "C:\\ProgramData\\Anaconda3\\lib\\site-packages\\xgboost\\core.py:587: FutureWarning: Series.base is deprecated and will be removed in a future version\n",
      "  if getattr(data, 'base', None) is not None and \\\n"
     ]
    },
    {
     "data": {
      "text/plain": [
       "XGBRegressor(base_score=0.5, booster='gbtree', colsample_bylevel=1,\n",
       "       colsample_bytree=0.7, gamma=0, importance_type='gain',\n",
       "       learning_rate=0.05, max_delta_step=0, max_depth=9,\n",
       "       min_child_weight=4, missing=None, n_estimators=170, n_jobs=1,\n",
       "       nthread=4, objective='reg:linear', random_state=0, reg_alpha=0,\n",
       "       reg_lambda=1, scale_pos_weight=1, seed=None, silent=1,\n",
       "       subsample=0.7)"
      ]
     },
     "execution_count": 112,
     "metadata": {},
     "output_type": "execute_result"
    }
   ],
   "source": [
    "model = XGBRegressor(subsample = 0.7, silent= 1, nthread= 4, n_estimators= 170, min_child_weight= 4,\n",
    "                     max_depth= 9, learning_rate= 0.05, colsample_bytree= 0.7)\n",
    "model.fit(x_train,y_train)"
   ]
  },
  {
   "cell_type": "code",
   "execution_count": 113,
   "metadata": {},
   "outputs": [],
   "source": [
    "y_pred = model.predict(x_test)"
   ]
  },
  {
   "cell_type": "code",
   "execution_count": 114,
   "metadata": {},
   "outputs": [
    {
     "name": "stdout",
     "output_type": "stream",
     "text": [
      "0.3504002416606343\n"
     ]
    }
   ],
   "source": [
    "from sklearn.metrics import mean_squared_error,r2_score\n",
    "rmse=np.sqrt(mean_squared_error(y_test,y_pred))\n",
    "print(rmse)"
   ]
  },
  {
   "cell_type": "code",
   "execution_count": 115,
   "metadata": {},
   "outputs": [
    {
     "data": {
      "text/plain": [
       "0.9322255215724662"
      ]
     },
     "execution_count": 115,
     "metadata": {},
     "output_type": "execute_result"
    }
   ],
   "source": [
    "r2_score(y_test,y_pred)"
   ]
  },
  {
   "cell_type": "code",
   "execution_count": 116,
   "metadata": {},
   "outputs": [],
   "source": [
    "submission = model.predict(testdata)"
   ]
  },
  {
   "cell_type": "code",
   "execution_count": 117,
   "metadata": {},
   "outputs": [
    {
     "data": {
      "text/plain": [
       "array([3.825375  , 3.782876  , 0.03023109, ..., 3.777929  , 3.7732244 ,\n",
       "       3.8046453 ], dtype=float32)"
      ]
     },
     "execution_count": 117,
     "metadata": {},
     "output_type": "execute_result"
    }
   ],
   "source": [
    "submission"
   ]
  },
  {
   "cell_type": "code",
   "execution_count": 118,
   "metadata": {},
   "outputs": [],
   "source": [
    "submission = np.round(submission,2)"
   ]
  },
  {
   "cell_type": "code",
   "execution_count": 119,
   "metadata": {},
   "outputs": [],
   "source": [
    "submission=pd.DataFrame(submission)"
   ]
  },
  {
   "cell_type": "code",
   "execution_count": 120,
   "metadata": {},
   "outputs": [],
   "source": [
    "submission.rename(columns={0:'Score'},inplace=True)"
   ]
  },
  {
   "cell_type": "code",
   "execution_count": 121,
   "metadata": {},
   "outputs": [
    {
     "data": {
      "text/plain": [
       "'C:\\\\Users\\\\h199185\\\\Downloads\\\\Analytics India Hackthon\\\\00-Inputs\\\\How-To-Choose-The-Perfect-Beer-Data-Set'"
      ]
     },
     "execution_count": 121,
     "metadata": {},
     "output_type": "execute_result"
    }
   ],
   "source": [
    "%pwd"
   ]
  },
  {
   "cell_type": "code",
   "execution_count": 122,
   "metadata": {},
   "outputs": [],
   "source": [
    "export_excel = submission.to_excel (r'C:\\\\Users\\\\h199185\\\\Downloads\\\\Analytics India Hackthon\\\\00-Inputs\\\\How-To-Choose-The-Perfect-Beer-Data-Set\\\\Beer_Sample_Submission.xlsx', \n",
    "                                    index = None, header=True)"
   ]
  },
  {
   "cell_type": "code",
   "execution_count": 124,
   "metadata": {},
   "outputs": [],
   "source": []
  },
  {
   "cell_type": "code",
   "execution_count": null,
   "metadata": {},
   "outputs": [],
   "source": []
  }
 ],
 "metadata": {
  "kernelspec": {
   "display_name": "Python 3",
   "language": "python",
   "name": "python3"
  },
  "language_info": {
   "codemirror_mode": {
    "name": "ipython",
    "version": 3
   },
   "file_extension": ".py",
   "mimetype": "text/x-python",
   "name": "python",
   "nbconvert_exporter": "python",
   "pygments_lexer": "ipython3",
   "version": "3.7.1"
  }
 },
 "nbformat": 4,
 "nbformat_minor": 2
}
